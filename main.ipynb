{
 "cells": [
  {
   "cell_type": "markdown",
   "metadata": {},
   "source": [
    "# Project -  Data Preparation I\n",
    "\n",
    "This is the second part of the AC data mining project. In this notebook, you will find the proccess of data preparation consisting in merging some of the tables, access data quality, outlier treatment and feature engineering.\n",
    "\n",
    "## Import of the needed packages"
   ]
  },
  {
   "cell_type": "code",
   "execution_count": 4,
   "metadata": {},
   "outputs": [],
   "source": [
    "import pandas as pd "
   ]
  },
  {
   "cell_type": "code",
   "execution_count": null,
   "metadata": {},
   "outputs": [],
   "source": [
    "#Carregando os valores do dataset\n",
    "base = pd.read_csv('quinto_andar_transformed_data.csv')\n",
    "\n",
    "#Mostrando as 5 primeiras linhas do dataset\n",
    "base.head()"
   ]
  },
  {
   "cell_type": "markdown",
   "metadata": {},
   "source": [
    "<div>\n",
    "<style scoped>\n",
    "    .dataframe tbody tr th:only-of-type {\n",
    "        vertical-align: middle;\n",
    "    }\n",
    "\n",
    "    .dataframe tbody tr th {\n",
    "        vertical-align: top;\n",
    "    }\n",
    "\n",
    "    .dataframe thead th {\n",
    "        text-align: right;\n",
    "    }\n",
    "</style>\n",
    "<table border=\"1\" class=\"dataframe\">\n",
    "  <thead>\n",
    "    <tr style=\"text-align: right;\">\n",
    "      <th></th>\n",
    "      <th>url</th>\n",
    "      <th>bairro</th>\n",
    "      <th>aluguel</th>\n",
    "      <th>condominio</th>\n",
    "      <th>iptu</th>\n",
    "      <th>seguro_incendio</th>\n",
    "      <th>taxa_serviço</th>\n",
    "      <th>total</th>\n",
    "      <th>metragem</th>\n",
    "      <th>quarto</th>\n",
    "      <th>banheiro</th>\n",
    "      <th>vaga_carro</th>\n",
    "      <th>andar</th>\n",
    "      <th>aceita_pet</th>\n",
    "      <th>mobilia</th>\n",
    "      <th>metro_prox</th>\n",
    "    </tr>\n",
    "  </thead>\n",
    "  <tbody>\n",
    "    <tr>\n",
    "      <th>0</th>\n",
    "      <td>https://www.quintoandar.com.br/imovel/89332996...</td>\n",
    "      <td>Liberdade</td>\n",
    "      <td>1900.0</td>\n",
    "      <td>424.0</td>\n",
    "      <td>5.0</td>\n",
    "      <td>25.0</td>\n",
    "      <td>38.0</td>\n",
    "      <td>2392.0</td>\n",
    "      <td>57.0</td>\n",
    "      <td>1.0</td>\n",
    "      <td>1.0</td>\n",
    "      <td>1.0</td>\n",
    "      <td>18.0</td>\n",
    "      <td>1.0</td>\n",
    "      <td>0.0</td>\n",
    "      <td>1.0</td>\n",
    "    </tr>\n",
    "    <tr>\n",
    "      <th>1</th>\n",
    "      <td>https://www.quintoandar.com.br/imovel/89334069...</td>\n",
    "      <td>Santa Cecília</td>\n",
    "      <td>1190.0</td>\n",
    "      <td>460.0</td>\n",
    "      <td>0.0</td>\n",
    "      <td>16.0</td>\n",
    "      <td>23.0</td>\n",
    "      <td>1689.0</td>\n",
    "      <td>56.0</td>\n",
    "      <td>1.0</td>\n",
    "      <td>1.0</td>\n",
    "      <td>0.0</td>\n",
    "      <td>11.0</td>\n",
    "      <td>1.0</td>\n",
    "      <td>1.0</td>\n",
    "      <td>1.0</td>\n",
    "    </tr>\n",
    "    <tr>\n",
    "      <th>2</th>\n",
    "      <td>https://www.quintoandar.com.br/imovel/89333859...</td>\n",
    "      <td>Aclimação</td>\n",
    "      <td>2330.0</td>\n",
    "      <td>450.0</td>\n",
    "      <td>5.0</td>\n",
    "      <td>30.0</td>\n",
    "      <td>46.0</td>\n",
    "      <td>2861.0</td>\n",
    "      <td>48.0</td>\n",
    "      <td>1.0</td>\n",
    "      <td>1.0</td>\n",
    "      <td>1.0</td>\n",
    "      <td>10.0</td>\n",
    "      <td>1.0</td>\n",
    "      <td>0.0</td>\n",
    "      <td>1.0</td>\n",
    "    </tr>\n",
    "    <tr>\n",
    "      <th>3</th>\n",
    "      <td>https://www.quintoandar.com.br/imovel/89337065...</td>\n",
    "      <td>Liberdade</td>\n",
    "      <td>1850.0</td>\n",
    "      <td>418.0</td>\n",
    "      <td>6.0</td>\n",
    "      <td>24.0</td>\n",
    "      <td>37.0</td>\n",
    "      <td>2335.0</td>\n",
    "      <td>44.0</td>\n",
    "      <td>1.0</td>\n",
    "      <td>1.0</td>\n",
    "      <td>1.0</td>\n",
    "      <td>3.0</td>\n",
    "      <td>1.0</td>\n",
    "      <td>1.0</td>\n",
    "      <td>1.0</td>\n",
    "    </tr>\n",
    "    <tr>\n",
    "      <th>4</th>\n",
    "      <td>https://www.quintoandar.com.br/imovel/89337700...</td>\n",
    "      <td>Vila Guilherme</td>\n",
    "      <td>2200.0</td>\n",
    "      <td>392.0</td>\n",
    "      <td>10.0</td>\n",
    "      <td>28.0</td>\n",
    "      <td>44.0</td>\n",
    "      <td>2674.0</td>\n",
    "      <td>62.0</td>\n",
    "      <td>2.0</td>\n",
    "      <td>2.0</td>\n",
    "      <td>1.0</td>\n",
    "      <td>8.0</td>\n",
    "      <td>1.0</td>\n",
    "      <td>0.0</td>\n",
    "      <td>0.0</td>\n",
    "    </tr>\n",
    "  </tbody>\n",
    "</table>\n",
    "</div>"
   ]
  },
  {
   "cell_type": "code",
   "execution_count": 6,
   "metadata": {},
   "outputs": [
    {
     "name": "stdout",
     "output_type": "stream",
     "text": [
      "<class 'pandas.core.frame.DataFrame'>\n",
      "RangeIndex: 2775 entries, 0 to 2774\n",
      "Data columns (total 16 columns):\n",
      " #   Column           Non-Null Count  Dtype  \n",
      "---  ------           --------------  -----  \n",
      " 0   url              2775 non-null   object \n",
      " 1   bairro           2775 non-null   object \n",
      " 2   aluguel          2775 non-null   float64\n",
      " 3   condominio       2768 non-null   float64\n",
      " 4   iptu             2767 non-null   float64\n",
      " 5   seguro_incendio  2775 non-null   float64\n",
      " 6   taxa_serviço     2775 non-null   float64\n",
      " 7   total            2775 non-null   float64\n",
      " 8   metragem         2775 non-null   float64\n",
      " 9   quarto           2775 non-null   float64\n",
      " 10  banheiro         2775 non-null   float64\n",
      " 11  vaga_carro       2775 non-null   float64\n",
      " 12  andar            2775 non-null   float64\n",
      " 13  aceita_pet       2775 non-null   float64\n",
      " 14  mobilia          2775 non-null   float64\n",
      " 15  metro_prox       2775 non-null   float64\n",
      "dtypes: float64(14), object(2)\n",
      "memory usage: 347.0+ KB\n"
     ]
    }
   ],
   "source": [
    "#Verificando as informações do dataset\n",
    "base.info()"
   ]
  },
  {
   "cell_type": "markdown",
   "metadata": {},
   "source": [
    "<class 'pandas.core.frame.DataFrame'>\n",
    "RangeIndex: 2775 entries, 0 to 2774\n",
    "Data columns (total 16 columns):\n",
    " #   Column           Non-Null Count  Dtype  \n",
    "---  ------           --------------  -----  \n",
    " 0   url              2775 non-null   object \n",
    " 1   bairro           2775 non-null   object \n",
    " 2   aluguel          2775 non-null   float64\n",
    " 3   condominio       2768 non-null   float64\n",
    " 4   iptu             2767 non-null   float64\n",
    " 5   seguro_incendio  2775 non-null   float64\n",
    " 6   taxa_serviço     2775 non-null   float64\n",
    " 7   total            2775 non-null   float64\n",
    " 8   metragem         2775 non-null   float64\n",
    " 9   quarto           2775 non-null   float64\n",
    " 10  banheiro         2775 non-null   float64\n",
    " 11  vaga_carro       2775 non-null   float64\n",
    " 12  andar            2775 non-null   float64\n",
    " 13  aceita_pet       2775 non-null   float64\n",
    " 14  mobilia          2775 non-null   float64\n",
    " 15  metro_prox       2775 non-null   float64\n",
    "dtypes: float64(14), object(2)\n",
    "memory usage: 347.0+ KB\n"
   ]
  },
  {
   "cell_type": "markdown",
   "metadata": {},
   "source": [
    "É possivel verificar que temos 16 colunas e 2775 linhas no total. Porém, nas colunas condominio e iptu temos menos linhas. Vamos verificar o que se passa "
   ]
  },
  {
   "cell_type": "code",
   "execution_count": 7,
   "metadata": {},
   "outputs": [
    {
     "data": {
      "text/plain": [
       "url                0\n",
       "bairro             0\n",
       "aluguel            0\n",
       "condominio         7\n",
       "iptu               8\n",
       "seguro_incendio    0\n",
       "taxa_serviço       0\n",
       "total              0\n",
       "metragem           0\n",
       "quarto             0\n",
       "banheiro           0\n",
       "vaga_carro         0\n",
       "andar              0\n",
       "aceita_pet         0\n",
       "mobilia            0\n",
       "metro_prox         0\n",
       "dtype: int64"
      ]
     },
     "execution_count": 7,
     "metadata": {},
     "output_type": "execute_result"
    }
   ],
   "source": [
    "#Verificar se tem valores nulos\n",
    "base.isnull().sum()"
   ]
  },
  {
   "cell_type": "markdown",
   "metadata": {},
   "source": [
    "É possível verificar que na coluna condominio e iptu temos 7 e 8 valores nulos respectivamente"
   ]
  },
  {
   "cell_type": "markdown",
   "metadata": {},
   "source": [
    "url                0\n",
    "bairro             0\n",
    "aluguel            0\n",
    "condominio         7\n",
    "iptu               8\n",
    "seguro_incendio    0\n",
    "taxa_serviço       0\n",
    "total              0\n",
    "metragem           0\n",
    "quarto             0\n",
    "banheiro           0\n",
    "vaga_carro         0\n",
    "andar              0\n",
    "aceita_pet         0\n",
    "mobilia            0\n",
    "metro_prox         0\n",
    "dtype: int64"
   ]
  },
  {
   "cell_type": "code",
   "execution_count": null,
   "metadata": {},
   "outputs": [],
   "source": []
  }
 ],
 "metadata": {
  "kernelspec": {
   "display_name": "Python 3",
   "language": "python",
   "name": "python3"
  },
  "language_info": {
   "codemirror_mode": {
    "name": "ipython",
    "version": 3
   },
   "file_extension": ".py",
   "mimetype": "text/x-python",
   "name": "python",
   "nbconvert_exporter": "python",
   "pygments_lexer": "ipython3",
   "version": "3.12.1"
  }
 },
 "nbformat": 4,
 "nbformat_minor": 2
}
